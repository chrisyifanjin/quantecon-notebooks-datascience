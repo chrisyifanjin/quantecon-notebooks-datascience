{
 "cells": [
  {
   "cell_type": "markdown",
   "metadata": {},
   "source": [
    "# 1: Ordered Collections"
   ]
  },
  {
   "cell_type": "markdown",
   "metadata": {},
   "source": [
    "## Lists"
   ]
  },
  {
   "cell_type": "markdown",
   "metadata": {},
   "source": [
    "A Python list is an ordered collection of items.\n",
    "\n",
    "```python\n",
    "[item1, item2, ..., itemN]\n",
    "```\n"
   ]
  },
  {
   "cell_type": "markdown",
   "metadata": {},
   "source": [
    "Each item can be of any type"
   ]
  },
  {
   "cell_type": "markdown",
   "metadata": {},
   "source": [
    "Example: "
   ]
  },
  {
   "cell_type": "code",
   "execution_count": 247,
   "metadata": {},
   "outputs": [
    {
     "data": {
      "text/plain": [
       "[2.0, 9.1, 12.5]"
      ]
     },
     "execution_count": 247,
     "metadata": {},
     "output_type": "execute_result"
    }
   ],
   "source": [
    "[2.0,9.1,12.5]"
   ]
  },
  {
   "cell_type": "code",
   "execution_count": 248,
   "metadata": {},
   "outputs": [
    {
     "name": "stdout",
     "output_type": "stream",
     "text": [
      "x has type <class 'list'>\n"
     ]
    },
    {
     "data": {
      "text/plain": [
       "[2.0, 9.1, 12.5]"
      ]
     },
     "execution_count": 248,
     "metadata": {},
     "output_type": "execute_result"
    }
   ],
   "source": [
    "x=[2.0,9.1,12.5]\n",
    "print(\"x has type\", type(x))\n",
    "x"
   ]
  },
  {
   "cell_type": "markdown",
   "metadata": {},
   "source": [
    "### What can we do with lists?"
   ]
  },
  {
   "cell_type": "markdown",
   "metadata": {},
   "source": [
    "We can access items in a list called `mylist` using `mylist[N]` where `N` is an integer."
   ]
  },
  {
   "cell_type": "markdown",
   "metadata": {},
   "source": [
    "Note: Python start counting at zero"
   ]
  },
  {
   "cell_type": "code",
   "execution_count": 249,
   "metadata": {},
   "outputs": [
    {
     "data": {
      "text/plain": [
       "9.1"
      ]
     },
     "execution_count": 249,
     "metadata": {},
     "output_type": "execute_result"
    }
   ],
   "source": [
    "x[1]"
   ]
  },
  {
   "cell_type": "code",
   "execution_count": 250,
   "metadata": {},
   "outputs": [
    {
     "data": {
      "text/plain": [
       "2.0"
      ]
     },
     "execution_count": 250,
     "metadata": {},
     "output_type": "execute_result"
    }
   ],
   "source": [
    "x[0]"
   ]
  },
  {
   "cell_type": "code",
   "execution_count": 251,
   "metadata": {},
   "outputs": [
    {
     "data": {
      "text/plain": [
       "3"
      ]
     },
     "execution_count": 251,
     "metadata": {},
     "output_type": "execute_result"
    }
   ],
   "source": [
    "len(x) # determine how many items in x"
   ]
  },
  {
   "cell_type": "code",
   "execution_count": 252,
   "metadata": {},
   "outputs": [],
   "source": [
    "# x[4] #if index is higher than the number of items in a list, \n",
    "# it gives an error"
   ]
  },
  {
   "cell_type": "code",
   "execution_count": 253,
   "metadata": {},
   "outputs": [
    {
     "data": {
      "text/plain": [
       "True"
      ]
     },
     "execution_count": 253,
     "metadata": {},
     "output_type": "execute_result"
    }
   ],
   "source": [
    "2.0 in x"
   ]
  },
  {
   "cell_type": "code",
   "execution_count": 254,
   "metadata": {},
   "outputs": [
    {
     "data": {
      "text/plain": [
       "False"
      ]
     },
     "execution_count": 254,
     "metadata": {},
     "output_type": "execute_result"
    }
   ],
   "source": [
    "1.5 in x # checking whether the element is n the lists"
   ]
  },
  {
   "cell_type": "code",
   "execution_count": 255,
   "metadata": {},
   "outputs": [
    {
     "data": {
      "text/plain": [
       "[12.5, 9.1, 2.0]"
      ]
     },
     "execution_count": 255,
     "metadata": {},
     "output_type": "execute_result"
    }
   ],
   "source": [
    "x.reverse() #reverse order of lists\n",
    "x"
   ]
  },
  {
   "cell_type": "code",
   "execution_count": 256,
   "metadata": {},
   "outputs": [
    {
     "name": "stdout",
     "output_type": "stream",
     "text": [
      "[10, 25, 42, 1.0]\n",
      "[1.0, 10, 25, 42]\n"
     ]
    }
   ],
   "source": [
    "number_list=[10,25,42,1.0]\n",
    "print(number_list)\n",
    "number_list.sort() # sorting the elements, for numerical, small to large\n",
    "print(number_list)"
   ]
  },
  {
   "cell_type": "code",
   "execution_count": 257,
   "metadata": {},
   "outputs": [
    {
     "name": "stdout",
     "output_type": "stream",
     "text": [
      "['NY', 'AZ', 'TX']\n",
      "['AZ', 'NY', 'TX']\n"
     ]
    }
   ],
   "source": [
    "str_list=[\"NY\",\"AZ\",\"TX\"]\n",
    "print(str_list)\n",
    "str_list.sort()\n",
    "print(str_list)"
   ]
  },
  {
   "cell_type": "markdown",
   "metadata": {},
   "source": [
    "Append: adds an element to the end of existing list, it adds a element in the end"
   ]
  },
  {
   "cell_type": "code",
   "execution_count": 258,
   "metadata": {},
   "outputs": [
    {
     "name": "stdout",
     "output_type": "stream",
     "text": [
      "[10, 25, 42, 8]\n",
      "[10, 25, 42, 8, 10]\n"
     ]
    }
   ],
   "source": [
    "num_list=[10,25,42,8]\n",
    "print(num_list)\n",
    "num_list.append(10)\n",
    "print(num_list)"
   ]
  },
  {
   "cell_type": "markdown",
   "metadata": {},
   "source": [
    "If you add a list to the end,rather than numbers in that list"
   ]
  },
  {
   "cell_type": "code",
   "execution_count": 259,
   "metadata": {},
   "outputs": [
    {
     "name": "stdout",
     "output_type": "stream",
     "text": [
      "[10, 25, 42, 8]\n",
      "[10, 25, 42, 8, [20, 4]]\n"
     ]
    }
   ],
   "source": [
    "num_list=[10,25,42,8]\n",
    "print(num_list)\n",
    "num_list.append([20,4])\n",
    "print(num_list)"
   ]
  },
  {
   "cell_type": "markdown",
   "metadata": {},
   "source": [
    "If we want to combine to list, We can use `extend`"
   ]
  },
  {
   "cell_type": "code",
   "execution_count": 260,
   "metadata": {},
   "outputs": [
    {
     "name": "stdout",
     "output_type": "stream",
     "text": [
      "[10, 25, 41, 8]\n",
      "[10, 25, 41, 8, 20, 4]\n"
     ]
    }
   ],
   "source": [
    "num_list=[10,25,41,8]\n",
    "print(num_list)\n",
    "num_list.extend([20,4])\n",
    "print(num_list)"
   ]
  },
  {
   "cell_type": "markdown",
   "metadata": {},
   "source": [
    "## Lists of Different Types"
   ]
  },
  {
   "cell_type": "markdown",
   "metadata": {},
   "source": [
    "1: Make a small change, change `2.0` to `2`, which is change from floating to integer"
   ]
  },
  {
   "cell_type": "code",
   "execution_count": 261,
   "metadata": {},
   "outputs": [],
   "source": [
    "x=[2,9.1,12.5]"
   ]
  },
  {
   "cell_type": "code",
   "execution_count": 262,
   "metadata": {},
   "outputs": [
    {
     "data": {
      "text/plain": [
       "True"
      ]
     },
     "execution_count": 262,
     "metadata": {},
     "output_type": "execute_result"
    }
   ],
   "source": [
    "import numpy as np\n",
    "x=[2,9.1,12.5]\n",
    "np.mean(x) #numpy package gives function to calculate mean\n",
    "np.mean(x)==sum(x)/len(x)"
   ]
  },
  {
   "cell_type": "code",
   "execution_count": 263,
   "metadata": {},
   "outputs": [
    {
     "name": "stdout",
     "output_type": "stream",
     "text": [
      "x has type <class 'list'>\n"
     ]
    },
    {
     "data": {
      "text/plain": [
       "[2, 'Hello', 3.0]"
      ]
     },
     "execution_count": 263,
     "metadata": {},
     "output_type": "execute_result"
    }
   ],
   "source": [
    "# To see the type of list, just list itself\n",
    "x=[2,\"Hello\",3.0]\n",
    "print(\"x has type\",type(x))\n",
    "x"
   ]
  },
  {
   "cell_type": "code",
   "execution_count": 264,
   "metadata": {},
   "outputs": [
    {
     "name": "stdout",
     "output_type": "stream",
     "text": [
      "type(x[0])=<class 'int'>,type(x[1])=<class 'str'>,type(x[2])=<class 'float'>\n"
     ]
    }
   ],
   "source": [
    "# To see the types of individual elements in the list\n",
    "print(f\"type(x[0])={type(x[0])},type(x[1])={type(x[1])},type(x[2])={type(x[2])}\")"
   ]
  },
  {
   "cell_type": "markdown",
   "metadata": {},
   "source": [
    "We can't sort the list which has two different types of elements, except for float and integer"
   ]
  },
  {
   "cell_type": "code",
   "execution_count": 265,
   "metadata": {},
   "outputs": [],
   "source": [
    "# x=[2,\"hello\",3.0]\n",
    "# x.sort()"
   ]
  },
  {
   "cell_type": "markdown",
   "metadata": {},
   "source": [
    "## The `range` Function"
   ]
  },
  {
   "cell_type": "markdown",
   "metadata": {},
   "source": [
    "It has three versions:\n",
    "\n",
    "1. `range(N)`: goes from 0 to N-1  \n",
    "1. `range(a, N)`: goes from a to N-1  \n",
    "1. `range(a, N, d)`: goes from a to N-1, counting by d  \n",
    "\n",
    "\n",
    "When we call the `range` function, we get back something that has type `range`:"
   ]
  },
  {
   "cell_type": "code",
   "execution_count": 266,
   "metadata": {},
   "outputs": [
    {
     "name": "stdout",
     "output_type": "stream",
     "text": [
      "<class 'range'>\n"
     ]
    }
   ],
   "source": [
    "r=range(5)\n",
    "print(type(r))"
   ]
  },
  {
   "cell_type": "code",
   "execution_count": 267,
   "metadata": {},
   "outputs": [
    {
     "data": {
      "text/plain": [
       "[0, 1, 2, 3, 4]"
      ]
     },
     "execution_count": 267,
     "metadata": {},
     "output_type": "execute_result"
    }
   ],
   "source": [
    "list(r) # to turn `range` into a list:"
   ]
  },
  {
   "cell_type": "markdown",
   "metadata": {},
   "source": [
    "## Tuples"
   ]
  },
  {
   "cell_type": "markdown",
   "metadata": {},
   "source": [
    "1: using parenthesis -() not []"
   ]
  },
  {
   "cell_type": "markdown",
   "metadata": {},
   "source": [
    "2: immutable, they can't be changed or altered after they are created"
   ]
  },
  {
   "cell_type": "markdown",
   "metadata": {},
   "source": [
    "3: Tuples and multiple return values from functions are tightly connected"
   ]
  },
  {
   "cell_type": "code",
   "execution_count": 268,
   "metadata": {},
   "outputs": [
    {
     "name": "stdout",
     "output_type": "stream",
     "text": [
      "t is a <class 'tuple'>\n"
     ]
    },
    {
     "data": {
      "text/plain": [
       "(1, 'hello', 3.0)"
      ]
     },
     "execution_count": 268,
     "metadata": {},
     "output_type": "execute_result"
    }
   ],
   "source": [
    "t=(1,\"hello\",3.0)\n",
    "print(\"t is a\", type(t))\n",
    "t"
   ]
  },
  {
   "cell_type": "code",
   "execution_count": 269,
   "metadata": {},
   "outputs": [
    {
     "name": "stdout",
     "output_type": "stream",
     "text": [
      "x is a <class 'list'>\n",
      "tuple(x) is a <class 'tuple'>\n"
     ]
    },
    {
     "data": {
      "text/plain": [
       "(2, 'Hello', 3.0)"
      ]
     },
     "execution_count": 269,
     "metadata": {},
     "output_type": "execute_result"
    }
   ],
   "source": [
    "# Convert list to tuple\n",
    "print(\"x is a\",type(x))\n",
    "print(\"tuple(x) is a\", type(tuple(x)))\n",
    "tuple(x)"
   ]
  },
  {
   "cell_type": "code",
   "execution_count": 270,
   "metadata": {},
   "outputs": [
    {
     "data": {
      "text/plain": [
       "[1, 'hello', 3.0]"
      ]
     },
     "execution_count": 270,
     "metadata": {},
     "output_type": "execute_result"
    }
   ],
   "source": [
    "# Convert a tuple to a list\n",
    "list(t)"
   ]
  },
  {
   "cell_type": "code",
   "execution_count": 271,
   "metadata": {},
   "outputs": [
    {
     "data": {
      "text/plain": [
       "1"
      ]
     },
     "execution_count": 271,
     "metadata": {},
     "output_type": "execute_result"
    }
   ],
   "source": [
    "t[0]"
   ]
  },
  {
   "cell_type": "code",
   "execution_count": 272,
   "metadata": {},
   "outputs": [
    {
     "data": {
      "text/plain": [
       "3.0"
      ]
     },
     "execution_count": 272,
     "metadata": {},
     "output_type": "execute_result"
    }
   ],
   "source": [
    "t[2]"
   ]
  },
  {
   "cell_type": "markdown",
   "metadata": {},
   "source": [
    "Tuples (and lists) can be unpacked directly into variables"
   ]
  },
  {
   "cell_type": "code",
   "execution_count": 273,
   "metadata": {},
   "outputs": [
    {
     "name": "stdout",
     "output_type": "stream",
     "text": [
      "x=1,y=test\n"
     ]
    }
   ],
   "source": [
    "x,y=(1,\"test\")\n",
    "print(f\"x={x},y={y}\")"
   ]
  },
  {
   "cell_type": "markdown",
   "metadata": {},
   "source": [
    "### List vs Tuple: Which to use?"
   ]
  },
  {
   "cell_type": "markdown",
   "metadata": {},
   "source": [
    "This depends on what you are storing, whether you might need to\n",
    "reorder the elements, or elements, or whether you would add elements\n",
    "withoud complete reinterpretation of the underlying data"
   ]
  },
  {
   "cell_type": "markdown",
   "metadata": {},
   "source": [
    "Example:"
   ]
  },
  {
   "cell_type": "code",
   "execution_count": 274,
   "metadata": {},
   "outputs": [
    {
     "name": "stdout",
     "output_type": "stream",
     "text": [
      "('China', 2015, 11.06, 1.371)\n"
     ]
    }
   ],
   "source": [
    "china_data_2015=(\"China\",2015,11.06,1.371)\n",
    "\n",
    "print(china_data_2015)"
   ]
  },
  {
   "cell_type": "markdown",
   "metadata": {},
   "source": [
    "Reason using tuples:\n",
    "\n",
    "1: ordering is meaningless\n",
    "\n",
    "2: adding more data would require a reinterpretation of whole data structure"
   ]
  },
  {
   "cell_type": "code",
   "execution_count": 275,
   "metadata": {},
   "outputs": [
    {
     "name": "stdout",
     "output_type": "stream",
     "text": [
      "[9.607, 10.48, 11.06]\n"
     ]
    }
   ],
   "source": [
    "gdp_data=[9.607,10.48,11.06]\n",
    "print(gdp_data)"
   ]
  },
  {
   "cell_type": "markdown",
   "metadata": {},
   "source": [
    "In this case, we use list, since adding on a new element to the end of the list for GDP in 2016 would make complete sense"
   ]
  },
  {
   "cell_type": "code",
   "execution_count": 276,
   "metadata": {
    "hide-output": false
   },
   "outputs": [
    {
     "name": "stdout",
     "output_type": "stream",
     "text": [
      "[(2015, 11.06, 1.371), (2014, 10.48, 1.364), (2013, 9.607, 1.357)]\n"
     ]
    }
   ],
   "source": [
    "china_data = [(2015, 11.06, 1.371), (2014, 10.48, 1.364), (2013, 9.607, 1.357)]\n",
    "print(china_data)"
   ]
  },
  {
   "cell_type": "markdown",
   "metadata": {},
   "source": [
    "General rules: use a list unless you need to use a tuple\n",
    "\n",
    "Key criteria for tuple use are when you want to:\n",
    "\n",
    "- ensure the order of elements can't change\n",
    "- ensure the actual values of the elements can't change\n",
    "- use the collection as a key in a dict\n"
   ]
  },
  {
   "cell_type": "markdown",
   "metadata": {},
   "source": [
    "## `zip` and `enumerate`"
   ]
  },
  {
   "cell_type": "markdown",
   "metadata": {},
   "source": [
    "`zip` example:"
   ]
  },
  {
   "cell_type": "code",
   "execution_count": 277,
   "metadata": {},
   "outputs": [
    {
     "name": "stdout",
     "output_type": "stream",
     "text": [
      "type(z) <class 'zip'>\n"
     ]
    }
   ],
   "source": [
    "gdp_data=[9.607,10.48,11.06]\n",
    "years=[2013,2014,2015]\n",
    "z=zip(years,gdp_data)\n",
    "print(\"type(z)\",type(z))"
   ]
  },
  {
   "cell_type": "code",
   "execution_count": 278,
   "metadata": {},
   "outputs": [
    {
     "data": {
      "text/plain": [
       "[(2013, 9.607), (2014, 10.48), (2015, 11.06)]"
      ]
     },
     "execution_count": 278,
     "metadata": {},
     "output_type": "execute_result"
    }
   ],
   "source": [
    "list(z)"
   ]
  },
  {
   "cell_type": "markdown",
   "metadata": {},
   "source": [
    "We unpack the resulting tuple directly into variables"
   ]
  },
  {
   "cell_type": "code",
   "execution_count": 279,
   "metadata": {},
   "outputs": [
    {
     "name": "stdout",
     "output_type": "stream",
     "text": [
      "year=2013,GDP=9.607\n"
     ]
    }
   ],
   "source": [
    "l=list(zip(years,gdp_data))\n",
    "x,y=l[0]\n",
    "print(f\"year={x},GDP={y}\")"
   ]
  },
  {
   "cell_type": "markdown",
   "metadata": {},
   "source": [
    "`enumerate` example:"
   ]
  },
  {
   "cell_type": "code",
   "execution_count": 280,
   "metadata": {},
   "outputs": [
    {
     "name": "stdout",
     "output_type": "stream",
     "text": [
      "type(e) <class 'enumerate'>\n"
     ]
    },
    {
     "data": {
      "text/plain": [
       "<enumerate at 0x11066d750>"
      ]
     },
     "execution_count": 280,
     "metadata": {},
     "output_type": "execute_result"
    }
   ],
   "source": [
    "e=enumerate([\"a\",\"b\",\"c\"])\n",
    "print(\"type(e)\",type(e))\n",
    "e"
   ]
  },
  {
   "cell_type": "code",
   "execution_count": 281,
   "metadata": {},
   "outputs": [
    {
     "data": {
      "text/plain": [
       "[(0, 'a'), (1, 'b'), (2, 'c')]"
      ]
     },
     "execution_count": 281,
     "metadata": {},
     "output_type": "execute_result"
    }
   ],
   "source": [
    "list(e) #enumerate is to index the list elements"
   ]
  },
  {
   "cell_type": "markdown",
   "metadata": {},
   "source": [
    "Note:\n",
    "\n",
    "Zip, enumerate and range produce what is called a generator. A generator will only produce each of its elements a single time, so if you call list on the same generator a second time, it will not have any elements to iterate over anymore."
   ]
  },
  {
   "cell_type": "code",
   "execution_count": 282,
   "metadata": {
    "hide-output": false
   },
   "outputs": [
    {
     "name": "stdout",
     "output_type": "stream",
     "text": [
      "[(2013, 9.607), (2014, 10.48), (2015, 11.06)]\n",
      "[]\n"
     ]
    }
   ],
   "source": [
    "gdp_data = [9.607, 10.48, 11.06]\n",
    "years = [2013, 2014, 2015]\n",
    "z = zip(years, gdp_data)\n",
    "l = list(z)\n",
    "print(l)\n",
    "m = list(z)\n",
    "print(m)"
   ]
  },
  {
   "cell_type": "markdown",
   "metadata": {},
   "source": [
    "# 2: Associative Collections"
   ]
  },
  {
   "cell_type": "markdown",
   "metadata": {},
   "source": [
    "## Dictionaries"
   ]
  },
  {
   "cell_type": "markdown",
   "metadata": {},
   "source": [
    "A dictionary associates `key`s with `value`s"
   ]
  },
  {
   "cell_type": "markdown",
   "metadata": {},
   "source": [
    "Similar to a dictionary for words, where the keys are words and the values are the associated definitions."
   ]
  },
  {
   "cell_type": "markdown",
   "metadata": {},
   "source": [
    "The most common way to create a `dict` is to use curly braces - `{` and `}` - like this:"
   ]
  },
  {
   "cell_type": "markdown",
   "metadata": {
    "hide-output": false
   },
   "source": [
    "```python\n",
    "{\"key1\": value1, \"key2\": value2, ..., \"keyN\": valueN}\n",
    "```\n"
   ]
  },
  {
   "cell_type": "markdown",
   "metadata": {},
   "source": [
    "where the `...` indicates that we can have any number of additional terms"
   ]
  },
  {
   "cell_type": "markdown",
   "metadata": {},
   "source": [
    "`key: value` and that these pairs are separated by commas -`,`."
   ]
  },
  {
   "cell_type": "markdown",
   "metadata": {},
   "source": [
    "Example:"
   ]
  },
  {
   "cell_type": "code",
   "execution_count": 283,
   "metadata": {
    "hide-output": false
   },
   "outputs": [
    {
     "name": "stdout",
     "output_type": "stream",
     "text": [
      "{'country': 'China', 'year': 2015, 'GDP': 11.06, 'population': 1.371}\n"
     ]
    }
   ],
   "source": [
    "china_data = {\"country\": \"China\", \"year\": 2015, \"GDP\" : 11.06, \"population\": 1.371}\n",
    "print(china_data)"
   ]
  },
  {
   "cell_type": "code",
   "execution_count": 284,
   "metadata": {
    "hide-output": false
   },
   "outputs": [],
   "source": [
    "china_data = {\n",
    "    \"country\": \"China\",\n",
    "    \"year\": 2015,\n",
    "    \"GDP\" : 11.06,\n",
    "    \"population\": 1.371\n",
    "} # more readable"
   ]
  },
  {
   "cell_type": "markdown",
   "metadata": {},
   "source": [
    "Most often, the keys (e.g. “country”, “year”, “GDP”, and “population”)\n",
    "will be strings, but we could also use numbers (`int`, or\n",
    "`float`) or even tuples (or, rarely, a combination of types).\n",
    "\n",
    "The values can be **any** type and different from each other.\n"
   ]
  },
  {
   "cell_type": "markdown",
   "metadata": {},
   "source": [
    "Values can be anything - including another dictionary"
   ]
  },
  {
   "cell_type": "code",
   "execution_count": 285,
   "metadata": {
    "hide-output": false
   },
   "outputs": [
    {
     "name": "stdout",
     "output_type": "stream",
     "text": [
      "{'AAPL': {'bid': 175.96, 'ask': 175.98}, 'GE': {'bid': 1047.03, 'ask': 1048.4}, 'TVIX': {'bid': 8.38, 'ask': 8.4}}\n"
     ]
    }
   ],
   "source": [
    "companies = {\"AAPL\": {\"bid\": 175.96, \"ask\": 175.98},\n",
    "             \"GE\": {\"bid\": 1047.03, \"ask\": 1048.40},\n",
    "             \"TVIX\": {\"bid\": 8.38, \"ask\": 8.40}}\n",
    "print(companies)"
   ]
  },
  {
   "cell_type": "markdown",
   "metadata": {},
   "source": [
    "### Getting, Setting, and Updating dict Items"
   ]
  },
  {
   "cell_type": "markdown",
   "metadata": {},
   "source": [
    "the syntax `d[k]`,  where `d` is our `dict` and `k` is the key \n"
   ]
  },
  {
   "cell_type": "code",
   "execution_count": 286,
   "metadata": {
    "hide-output": false
   },
   "outputs": [
    {
     "name": "stdout",
     "output_type": "stream",
     "text": [
      "2015\n",
      "country = China, population = 1.371\n"
     ]
    }
   ],
   "source": [
    "print(china_data[\"year\"])\n",
    "print(f\"country = {china_data['country']}, population = {china_data['population']}\")"
   ]
  },
  {
   "cell_type": "markdown",
   "metadata": {},
   "source": [
    "If we ask for the value of a key that is not in the dict, we will get an error"
   ]
  },
  {
   "cell_type": "code",
   "execution_count": 287,
   "metadata": {},
   "outputs": [],
   "source": [
    "# china_data[\"inflation\"]"
   ]
  },
  {
   "cell_type": "markdown",
   "metadata": {},
   "source": [
    "Adding new items to a dict using `d[new_key]=new_value`"
   ]
  },
  {
   "cell_type": "code",
   "execution_count": 288,
   "metadata": {
    "hide-output": false
   },
   "outputs": [
    {
     "name": "stdout",
     "output_type": "stream",
     "text": [
      "{'country': 'China', 'year': 2015, 'GDP': 11.06, 'population': 1.371}\n",
      "{'country': 'China', 'year': 2015, 'GDP': 11.06, 'population': 1.371, 'unemployment': '4.05%'}\n"
     ]
    }
   ],
   "source": [
    "print(china_data)\n",
    "china_data[\"unemployment\"] = \"4.05%\"\n",
    "print(china_data)"
   ]
  },
  {
   "cell_type": "markdown",
   "metadata": {},
   "source": [
    "To update the value, we use assignment in the same way (which will create the key and value as required)"
   ]
  },
  {
   "cell_type": "code",
   "execution_count": 289,
   "metadata": {},
   "outputs": [
    {
     "name": "stdout",
     "output_type": "stream",
     "text": [
      "{'country': 'China', 'year': 2015, 'GDP': 11.06, 'population': 1.371, 'unemployment': '4.05%'}\n",
      "{'country': 'China', 'year': 2015, 'GDP': 11.06, 'population': 1.371, 'unemployment': '4.051%'}\n"
     ]
    }
   ],
   "source": [
    "print(china_data)\n",
    "china_data[\"unemployment\"]=\"4.051%\"\n",
    "print(china_data)"
   ]
  },
  {
   "cell_type": "markdown",
   "metadata": {},
   "source": [
    "Or we could change the type"
   ]
  },
  {
   "cell_type": "code",
   "execution_count": 290,
   "metadata": {},
   "outputs": [
    {
     "name": "stdout",
     "output_type": "stream",
     "text": [
      "{'country': 'China', 'year': 2015, 'GDP': 11.06, 'population': 1.371, 'unemployment': 4.051}\n"
     ]
    }
   ],
   "source": [
    "china_data[\"unemployment\"]=4.051\n",
    "print(china_data)"
   ]
  },
  {
   "cell_type": "markdown",
   "metadata": {},
   "source": [
    "### Common `dict` Functionality"
   ]
  },
  {
   "cell_type": "code",
   "execution_count": 291,
   "metadata": {
    "hide-output": false
   },
   "outputs": [
    {
     "data": {
      "text/plain": [
       "5"
      ]
     },
     "execution_count": 291,
     "metadata": {},
     "output_type": "execute_result"
    }
   ],
   "source": [
    "# number of key-value pairs in a dict\n",
    "len(china_data)"
   ]
  },
  {
   "cell_type": "code",
   "execution_count": 292,
   "metadata": {
    "hide-output": false
   },
   "outputs": [
    {
     "data": {
      "text/plain": [
       "['country', 'year', 'GDP', 'population', 'unemployment']"
      ]
     },
     "execution_count": 292,
     "metadata": {},
     "output_type": "execute_result"
    }
   ],
   "source": [
    "# get a list of all the keys\n",
    "list(china_data.keys())"
   ]
  },
  {
   "cell_type": "code",
   "execution_count": 293,
   "metadata": {
    "hide-output": false
   },
   "outputs": [
    {
     "data": {
      "text/plain": [
       "['China', 2015, 11.06, 1.371, 4.051]"
      ]
     },
     "execution_count": 293,
     "metadata": {},
     "output_type": "execute_result"
    }
   ],
   "source": [
    "# get a list of all the values\n",
    "list(china_data.values())"
   ]
  },
  {
   "cell_type": "code",
   "execution_count": 294,
   "metadata": {
    "hide-output": false
   },
   "outputs": [
    {
     "data": {
      "text/plain": [
       "{'country': 'China',\n",
       " 'year': 2015,\n",
       " 'GDP': 11.06,\n",
       " 'population': 1.371,\n",
       " 'unemployment': 4.051,\n",
       " 'irrigated_land': 690070,\n",
       " 'top_religions': {'buddhist': 18.2, 'christian': 5.1, 'muslim': 1.8}}"
      ]
     },
     "execution_count": 294,
     "metadata": {},
     "output_type": "execute_result"
    }
   ],
   "source": [
    "more_china_data = {\"irrigated_land\": 690_070, \"top_religions\": {\"buddhist\": 18.2, \"christian\" : 5.1, \"muslim\": 1.8}}\n",
    "\n",
    "# Add all key-value pairs in mydict2 to mydict.\n",
    "# if the key already appears in mydict, overwrite the\n",
    "# value with the value in mydict2\n",
    "china_data.update(more_china_data)\n",
    "china_data"
   ]
  },
  {
   "cell_type": "code",
   "execution_count": 295,
   "metadata": {
    "hide-output": false
   },
   "outputs": [
    {
     "data": {
      "text/plain": [
       "690070"
      ]
     },
     "execution_count": 295,
     "metadata": {},
     "output_type": "execute_result"
    }
   ],
   "source": [
    "# Get the value associated with a key or return a default value\n",
    "# use this to avoid the NameError we saw above if you have a reasonable\n",
    "# default value\n",
    "china_data.get(\"irrigated_land\", \"Data Not Available\")"
   ]
  },
  {
   "cell_type": "code",
   "execution_count": 296,
   "metadata": {
    "hide-output": false
   },
   "outputs": [
    {
     "data": {
      "text/plain": [
       "'Data Not Available'"
      ]
     },
     "execution_count": 296,
     "metadata": {},
     "output_type": "execute_result"
    }
   ],
   "source": [
    "china_data.get(\"death_rate\", \"Data Not Available\")"
   ]
  },
  {
   "cell_type": "markdown",
   "metadata": {},
   "source": [
    "## Sets"
   ]
  },
  {
   "cell_type": "markdown",
   "metadata": {},
   "source": [
    "Sets are like mathematical concept of sets.\n",
    "\n",
    "Definition: A set is an unordered collection of unique elements"
   ]
  },
  {
   "cell_type": "code",
   "execution_count": 297,
   "metadata": {},
   "outputs": [
    {
     "name": "stdout",
     "output_type": "stream",
     "text": [
      "s has type <class 'set'>\n"
     ]
    },
    {
     "data": {
      "text/plain": [
       "{1, 3.0, 'hello'}"
      ]
     },
     "execution_count": 297,
     "metadata": {},
     "output_type": "execute_result"
    }
   ],
   "source": [
    "s= {1,\"hello\",3.0}\n",
    "print(\"s has type\",type(s))\n",
    "s"
   ]
  },
  {
   "cell_type": "markdown",
   "metadata": {},
   "source": [
    "Checking length and checking an element whether or not in set"
   ]
  },
  {
   "cell_type": "code",
   "execution_count": 298,
   "metadata": {},
   "outputs": [
    {
     "name": "stdout",
     "output_type": "stream",
     "text": [
      "len(s)= 3\n"
     ]
    },
    {
     "data": {
      "text/plain": [
       "True"
      ]
     },
     "execution_count": 298,
     "metadata": {},
     "output_type": "execute_result"
    }
   ],
   "source": [
    "print(\"len(s)=\",len(s))\n",
    "\"hello\" in s"
   ]
  },
  {
   "cell_type": "markdown",
   "metadata": {},
   "source": [
    "Unlike lists and tuples, we can’t extract elements of a set `s` using\n",
    "`s[N]` where `N` is a number. Since it is unordered."
   ]
  },
  {
   "cell_type": "markdown",
   "metadata": {},
   "source": [
    "We can add"
   ]
  },
  {
   "cell_type": "code",
   "execution_count": 299,
   "metadata": {},
   "outputs": [
    {
     "data": {
      "text/plain": [
       "{1, 100, 3.0, 'hello'}"
      ]
     },
     "execution_count": 299,
     "metadata": {},
     "output_type": "execute_result"
    }
   ],
   "source": [
    "s.add(100)\n",
    "s"
   ]
  },
  {
   "cell_type": "code",
   "execution_count": 300,
   "metadata": {},
   "outputs": [
    {
     "data": {
      "text/plain": [
       "{1, 100, 3.0, 'Hello', 'hello'}"
      ]
     },
     "execution_count": 300,
     "metadata": {},
     "output_type": "execute_result"
    }
   ],
   "source": [
    "s.add(\"Hello\")\n",
    "s #nothing happen since it is unique we will not have one single element twice"
   ]
  },
  {
   "cell_type": "markdown",
   "metadata": {},
   "source": [
    "We can also do set operations.\n",
    "\n",
    "Consider the set `s` from above and the set\n",
    "`s2 = {\"hello\", \"world\"}`.\n",
    "\n",
    "- `s.union(s2)`: returns a set with all elements in either `s` or\n",
    "  `s2`  \n",
    "- `s.intersection(s2)`: returns a set with all elements in both `s`\n",
    "  and `s2`  \n",
    "- `s.difference(s2)`: returns a set with all elements in `s` that\n",
    "  aren’t in `s2`  \n",
    "- `s.symmetric_difference(s2)`: returns a set with all elements in\n",
    "  only one of `s` and `s2`  "
   ]
  },
  {
   "cell_type": "markdown",
   "metadata": {},
   "source": [
    "`set` convert other types of data to set"
   ]
  },
  {
   "cell_type": "code",
   "execution_count": 301,
   "metadata": {
    "hide-output": false
   },
   "outputs": [
    {
     "data": {
      "text/plain": [
       "{1, 2, 3}"
      ]
     },
     "execution_count": 301,
     "metadata": {},
     "output_type": "execute_result"
    }
   ],
   "source": [
    "x = [1, 2, 3, 1]\n",
    "set(x)"
   ]
  },
  {
   "cell_type": "code",
   "execution_count": 302,
   "metadata": {
    "hide-output": false
   },
   "outputs": [
    {
     "data": {
      "text/plain": [
       "{1, 2, 3}"
      ]
     },
     "execution_count": 302,
     "metadata": {},
     "output_type": "execute_result"
    }
   ],
   "source": [
    "t = (1, 2, 3, 1)\n",
    "set(t)"
   ]
  },
  {
   "cell_type": "code",
   "execution_count": 303,
   "metadata": {
    "hide-output": false
   },
   "outputs": [
    {
     "data": {
      "text/plain": [
       "[1, 'Hello', 3.0, 100, 'hello']"
      ]
     },
     "execution_count": 303,
     "metadata": {},
     "output_type": "execute_result"
    }
   ],
   "source": [
    "list(s)"
   ]
  },
  {
   "cell_type": "code",
   "execution_count": 304,
   "metadata": {
    "hide-output": false
   },
   "outputs": [
    {
     "data": {
      "text/plain": [
       "(1, 'Hello', 3.0, 100, 'hello')"
      ]
     },
     "execution_count": 304,
     "metadata": {},
     "output_type": "execute_result"
    }
   ],
   "source": [
    "tuple(s)"
   ]
  }
 ],
 "metadata": {
  "kernelspec": {
   "display_name": "Python 3",
   "language": "python",
   "name": "python3"
  },
  "language_info": {
   "codemirror_mode": {
    "name": "ipython",
    "version": 3
   },
   "file_extension": ".py",
   "mimetype": "text/x-python",
   "name": "python",
   "nbconvert_exporter": "python",
   "pygments_lexer": "ipython3",
   "version": "3.7.3"
  }
 },
 "nbformat": 4,
 "nbformat_minor": 4
}
